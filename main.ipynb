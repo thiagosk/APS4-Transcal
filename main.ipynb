{
 "cells": [
  {
   "cell_type": "markdown",
   "metadata": {},
   "source": [
    "# Liças - Segurando o mundo\n",
    "\n",
    "### Projeto do 5° semestre da engenharia de computação\n",
    "\n",
    "\n",
    "#### Professor\n",
    "- Caio Fernando\n",
    "\n",
    "#### Alunos\n",
    "- Pedro Henrique Britto Aragão Andrade\n",
    "- Thiago Shiguero Kawahara\n",
    "- Willian Kenzo"
   ]
  },
  {
   "cell_type": "markdown",
   "metadata": {},
   "source": [
    "# Contextualização\n",
    "\n",
    "#### Esse projeto tem como intuito o desenvolver um software para a análise de treliças planas, mais específicamente da estrutura da imagem seguinte:"
   ]
  },
  {
   "cell_type": "markdown",
   "metadata": {},
   "source": [
    "![Estrutura](img/estrutura.png)"
   ]
  },
  {
   "cell_type": "markdown",
   "metadata": {},
   "source": [
    "# Etapa 1\n",
    "\n",
    "#### Importação das bibliotecas necessárias e do arquivo em exel com os dados da nossa extrutura"
   ]
  },
  {
   "cell_type": "code",
   "execution_count": 119,
   "metadata": {},
   "outputs": [],
   "source": [
    "import numpy as np\n",
    "from funcoesTermosol import importa\n",
    "from numpy.linalg import det\n",
    "from matplotlib import pyplot as plt\n",
    "[nn,N,nm,Inc,nc,F,nr,R] = importa('entrada.xlsx')"
   ]
  },
  {
   "cell_type": "markdown",
   "metadata": {},
   "source": [
    "# Etapa 2\n",
    "\n",
    "#### Para uma maior facilidade dos calculos futuramente foi criado um dicionário global que caracteriza cada nó com as suas íncidências"
   ]
  },
  {
   "cell_type": "code",
   "execution_count": 120,
   "metadata": {},
   "outputs": [],
   "source": [
    "no_indice = {}\n",
    "\n",
    "for i in range(1, nn + 1):\n",
    "    no_indice[i] = (2*i-2,2*i-1)"
   ]
  },
  {
   "cell_type": "markdown",
   "metadata": {},
   "source": [
    "# Etapa 3\n",
    "\n",
    "#### Para facilitar e deixar o código mais responsível foi necessário criar uma classe elemento, a qual servirá para indicar cada haste da estrutura e suas respectivas carecterísticas como:\n",
    "\n",
    "- Posição\n",
    "- Nós iniciais e finais (já foram caracterizados com as suas incidências)\n",
    "- Comprimento\n",
    "- Cosseno e seno\n",
    "- Young's Módulos\n",
    "- Área\n",
    "- Matriz de rigidez"
   ]
  },
  {
   "cell_type": "code",
   "execution_count": 121,
   "metadata": {},
   "outputs": [],
   "source": [
    "class elemento:\n",
    "    def __init__(self, posicao, no0, nof, E, A):\n",
    "        self.posicao = posicao\n",
    "        self.no0 = no_indice[no0]\n",
    "        self.nof = no_indice[nof]\n",
    "        self.x0 = N[0][int(no0-1)]\n",
    "        self.y0 = N[1][int(no0-1)]\n",
    "        self.xf = N[0][int(nof-1)]\n",
    "        self.yf = N[1][int(nof-1)]\n",
    "        self.L = ((self.xf - self.x0)**2 + (self.yf-self.y0)**2)**0.5\n",
    "        self.sen = (self.yf-self.y0)/self.L\n",
    "        self.cos = (self.xf-self.x0)/self.L\n",
    "        self.E = E\n",
    "        self.A = A\n",
    "        self.K = E*A/self.L*np.array([[self.cos**2, self.cos*self.sen, -self.cos**2, -self.cos*self.sen],\n",
    "                                      [self.cos*self.sen, self.sen**2, -self.cos*self.sen, -self.sen**2], \n",
    "                                      [-self.cos**2, -self.cos*self.sen, self.cos**2, self.cos*self.sen], \n",
    "                                      [-self.cos*self.sen, -self.sen**2, self.cos*self.sen, self.sen**2]])\n",
    "        self.tensao = 0\n",
    "        self.deformacao = 0\n",
    "        self.forca = 0"
   ]
  },
  {
   "cell_type": "code",
   "execution_count": 122,
   "metadata": {},
   "outputs": [],
   "source": [
    "# Criando os elementos\n",
    "\n",
    "def criacao_elementos():\n",
    "    elementos = []  \n",
    "    for i in range(nm):\n",
    "        e = elemento(i+1, Inc[i][0], Inc[i][1], Inc[i][2], Inc[i][3])\n",
    "        elementos.append(e)\n",
    "    return elementos\n",
    "\n",
    "elementos = criacao_elementos()"
   ]
  },
  {
   "cell_type": "markdown",
   "metadata": {},
   "source": [
    "# Etapa 4\n",
    "\n",
    "#### Com os elementos caracterizados agora podemos criar a matriz de rigidez global do sistema [$K_g$]"
   ]
  },
  {
   "cell_type": "markdown",
   "metadata": {},
   "source": [
    "![Matriz Global](img/matrizglobal.png)"
   ]
  },
  {
   "cell_type": "code",
   "execution_count": 123,
   "metadata": {},
   "outputs": [
    {
     "data": {
      "text/plain": [
       "{(0, 0): 5038531.973700276,\n",
       " (0, 1): 2519265.986850138,\n",
       " (0, 2): -5038531.973700276,\n",
       " (0, 3): -2519265.986850138,\n",
       " (1, 0): 2519265.986850138,\n",
       " (1, 1): 1259632.993425069,\n",
       " (1, 2): -2519265.986850138,\n",
       " (1, 3): -1259632.993425069,\n",
       " (2, 0): -5038531.973700276,\n",
       " (2, 1): -2519265.986850138,\n",
       " (2, 2): 5038531.973700276,\n",
       " (2, 3): 2519265.986850138,\n",
       " (3, 0): -2519265.986850138,\n",
       " (3, 1): -1259632.993425069,\n",
       " (3, 2): 2519265.986850138,\n",
       " (3, 3): 1259632.993425069}"
      ]
     },
     "execution_count": 123,
     "metadata": {},
     "output_type": "execute_result"
    }
   ],
   "source": [
    "# Criando um dicionário com as posições dos elementos na matriz global\n",
    "\n",
    "def matriz_para_dicio(elementos):\n",
    "    for element in elementos:\n",
    "        a = element.no0[0], element.no0[1], element.nof[0], element.nof[1]\n",
    "        k_indice = {}\n",
    "        for i, j in zip(element.K, a):\n",
    "            for c, b in zip(i, a):\n",
    "                k_indice[(j, b)] = c\n",
    "        element.dicio = k_indice\n",
    "\n",
    "matriz_para_dicio(elementos)\n",
    "\n",
    "# Exemplo de como acessar os valores da matriz de rigidez de um elemento\n",
    "elementos[0].dicio"
   ]
  },
  {
   "cell_type": "code",
   "execution_count": 124,
   "metadata": {},
   "outputs": [],
   "source": [
    "# Matriz global de rigidez do sistema, por enquanto sem considerar\n",
    "# as condições de contorno, ou seja, sem considerar as forças externas\n",
    "# e os deslocamentos conhecidos dos nós do sistema\n",
    "\n",
    "def calcula_Kg(elementos):\n",
    "    tam = no_indice[nn][1] + 1\n",
    "    Kg = np.zeros((tam,tam))\n",
    "    \n",
    "    for element in elementos:\n",
    "        for i in range(tam):\n",
    "            for j in range(tam):\n",
    "                indice = (i,j)\n",
    "                if indice in element.dicio:\n",
    "                    Kg[i][j] += element.dicio[indice]\n",
    "    return Kg\n",
    "\n",
    "kg = calcula_Kg(elementos)"
   ]
  },
  {
   "cell_type": "markdown",
   "metadata": {},
   "source": [
    "# Etapa 5\n",
    "\n",
    "#### Criação do vetor global das forças concentradas"
   ]
  },
  {
   "cell_type": "code",
   "execution_count": 125,
   "metadata": {},
   "outputs": [],
   "source": [
    "# Matriz de forças externas do sistema (sem considerar as condições de contorno)\n",
    "# A matriz de forças externas é uma matriz coluna, onde cada linha representa\n",
    "# uma força externa aplicada em um nó do sistema (nó 1, nó 2, ..., nó nn)\n",
    "\n",
    "def calcula_Pg_total():\n",
    "    Pg = []\n",
    "    for i in range(len(F)):\n",
    "        if F[i][0] == 0:\n",
    "            c = False\n",
    "            for j in R:\n",
    "                if i == j[0]:\n",
    "                    Pg.append(\"R\")\n",
    "                    c = True\n",
    "            if c == False:\n",
    "                Pg.append(0)\n",
    "        else:\n",
    "            Pg.append(F[i][0])\n",
    "    return Pg\n",
    "\n",
    "Pg_total = calcula_Pg_total()"
   ]
  },
  {
   "cell_type": "markdown",
   "metadata": {},
   "source": [
    "# Etapa 6\n",
    "\n",
    "#### Com o vetor global das forças, podemos enfim aplicar os contornos na matriz de rigidez global"
   ]
  },
  {
   "cell_type": "code",
   "execution_count": 126,
   "metadata": {},
   "outputs": [],
   "source": [
    "# Matriz global de rigidez do sistema, considerando as condições de contorno\n",
    "# e as forças externas aplicadas nos nós do sistema (nó 1, nó 2, ..., nó nn)\n",
    "indices = [i for i, j in enumerate(Pg_total) if j == \"R\"]\n",
    "def kg_filtrado(kg, Pg_total):\n",
    "    tam = (no_indice[nn][1] + 1 - len(indices))\n",
    "    Kg_novo = np.zeros((tam,tam))\n",
    "\n",
    "    a = 0\n",
    "    b = 0\n",
    "    for i, linha in enumerate(kg):\n",
    "        if i not in indices:\n",
    "            for j, coluna in enumerate(linha):\n",
    "                if j not in indices:\n",
    "                    Kg_novo[a][b] = coluna\n",
    "                    b += 1\n",
    "            a += 1\n",
    "            b = 0\n",
    "    \n",
    "    Pg = [i for i in Pg_total if i != \"R\"]\n",
    "                \n",
    "    return Kg_novo, Pg\n",
    "    \n",
    "    \n",
    "kg_fil, Pg_fil = kg_filtrado(kg, Pg_total)"
   ]
  },
  {
   "cell_type": "markdown",
   "metadata": {},
   "source": [
    "# Etapa 7\n",
    "\n",
    "#### Com o [$K_g$] e o [$P_g$] filtrados, ou seja, com as condições de contornos aplicadas precisamos resolver um sistema de equações para abter os seus deslocamentos, para chegar em tais resultados existe algumas formas como a utilização da equação de Jacobi, porém para esse sistema foi utilizado a equação de Gauss Seidel"
   ]
  },
  {
   "cell_type": "markdown",
   "metadata": {},
   "source": [
    "![Equações](img/equa%C3%A7%C3%B5es.png)"
   ]
  },
  {
   "cell_type": "code",
   "execution_count": 127,
   "metadata": {},
   "outputs": [],
   "source": [
    "# Aplicação da equação de Gauss Seidel para resolver o sistema de equações\n",
    "# e encontrar os deslocamentos dos nós do sistema\n",
    "\n",
    "def gauss_seidel(Pg_fil, kg_fil, tol, max_iter):\n",
    "    x = np.zeros(kg_fil.shape[0])\n",
    "    \n",
    "    erros = []\n",
    "    \n",
    "    for i in range(max_iter):\n",
    "        for j in range(kg_fil.shape[0]):\n",
    "            x[j] = (Pg_fil[j] - np.dot(kg_fil[j, :j], x[:j]) - np.dot(kg_fil[j, j+1:], x[j+1:]))/kg_fil[j, j]\n",
    "        erro = np.linalg.norm(np.dot(kg_fil, x) - Pg_fil)\n",
    "        erro = erro/np.linalg.norm(Pg_fil)\n",
    "        erros.append(erro)\n",
    "        if erro < tol:\n",
    "            break\n",
    "    \n",
    "    x_expandido = x.copy()\n",
    "    for i in indices:\n",
    "        x_expandido = np.insert(x_expandido, i, 0)\n",
    "    \n",
    "    return x, np.array(x_expandido), erros\n",
    "    \n",
    "x, x_expandido, erros = gauss_seidel(Pg_fil, kg_fil, 1e-6, 1000)\n",
    "\n",
    "# O código irá devolver os deslocamentos dos nós do sistema na forma\n",
    "# expandida e na forma reduzida, ou seja, com e sem as condições de contorno\n",
    "# além disso, o código irá devolver uma lista com os erros de cada iteração\n",
    "# até que o erro seja menor que a tolerância estabelecida (tol) ou até que\n",
    "# o número máximo de iterações (max_iter) seja atingido"
   ]
  },
  {
   "cell_type": "markdown",
   "metadata": {},
   "source": [
    "# Etapa 8\n",
    "\n",
    "#### Com os deslocamentos calculados podemos, enfim, calcular a deformação, tensão, a força e as reações de apoio da estrutura"
   ]
  },
  {
   "cell_type": "code",
   "execution_count": 128,
   "metadata": {},
   "outputs": [],
   "source": [
    "# Calculando as reações de apoio do sistema\n",
    "\n",
    "def calcula_reacoes(x_expandido, kg):\n",
    "    reacoes = np.dot(kg, x_expandido)\n",
    "    reacoes = [reacoes[i] for i in indices]\n",
    "    return np.array(reacoes)\n",
    "\n",
    "reacoes = calcula_reacoes(x_expandido, kg)"
   ]
  },
  {
   "cell_type": "code",
   "execution_count": 129,
   "metadata": {},
   "outputs": [],
   "source": [
    "# Calculando a tensão, deformação e força de cada elemento do sistema\n",
    "\n",
    "def tensão_deformação_forca(elementos, x_expandido):\n",
    "    for element in elementos:\n",
    "        _cos = element.cos\n",
    "        _sen = element.sen\n",
    "        a = element.no0[0], element.no0[1], element.nof[0], element.nof[1]\n",
    "        u = np.array([x_expandido[i] for i in a])\n",
    "        element.tensao = (element.E/element.L)*np.dot(np.array([-_cos, -_sen, _cos, _sen]), u)\n",
    "        element.deformacao = (1/element.L)*np.dot(np.array([-_cos, -_sen, _cos, _sen]), u)\n",
    "        element.forca = element.tensao*element.A\n",
    "    \n",
    "tensão_deformação_forca(elementos, x_expandido)"
   ]
  },
  {
   "cell_type": "markdown",
   "metadata": {},
   "source": [
    "# Etapa 9\n",
    "\n",
    "#### Varificação dos dados obtidos"
   ]
  },
  {
   "cell_type": "code",
   "execution_count": 130,
   "metadata": {},
   "outputs": [
    {
     "name": "stdout",
     "output_type": "stream",
     "text": [
      "Reacoes de apoio [N]\n",
      "[3900.00220546 2899.99736372 1599.99706971]\n",
      "\n",
      "\n",
      "Deslocamentos [m]\n",
      "[ 0.          0.          0.00100474 -0.00431173  0.00035977 -0.00466312\n",
      "  0.00025974 -0.00443927  0.00055859 -0.00463758 -0.00032427 -0.00424778\n",
      "  0.00116451  0.        ]\n",
      "\n",
      "\n",
      "Deformacoes []\n",
      "[-0.00639515 -0.00449315 -0.00377645 -0.00352836 -0.00075561  0.00075561\n",
      "  0.00191125 -0.00191125  0.00187379  0.00103551  0.00315586]\n",
      "\n",
      "\n",
      "Forcas internas [N]\n",
      "[-6484.59123986 -4555.9829687  -3829.26043194 -3577.70221166\n",
      "  -766.17737152   766.1765397   1937.98228402 -1937.98384069\n",
      "  1899.99252199  1049.99480345  3199.99413941]\n",
      "\n",
      "\n",
      "Tensoes internas [Pa]\n",
      "[-1.23516024e+09 -8.67806280e+08 -7.29382939e+08 -6.81467088e+08\n",
      " -1.45938547e+08  1.45938389e+08  3.69139483e+08 -3.69139779e+08\n",
      "  3.61903338e+08  1.99999010e+08  6.09522693e+08]\n"
     ]
    }
   ],
   "source": [
    "tensao = np.array([element.tensao for element in elementos])\n",
    "forca = np.array([element.forca for element in elementos])\n",
    "deformacao = np.array([element.deformacao for element in elementos])\n",
    "\n",
    "print(\"Reacoes de apoio [N]\")\n",
    "print(reacoes)\n",
    "\n",
    "print(\"\\n\")\n",
    "print(\"Deslocamentos [m]\")\n",
    "print(x_expandido)\n",
    "\n",
    "print(\"\\n\")\n",
    "print(\"Deformacoes []\")\n",
    "print(deformacao)\n",
    "\n",
    "print(\"\\n\")\n",
    "print(\"Forcas internas [N]\")\n",
    "print(forca)\n",
    "\n",
    "print(\"\\n\")\n",
    "print(\"Tensoes internas [Pa]\")\n",
    "print(tensao)\n",
    "\n",
    "meuArquivo = open('saida.txt', 'w')\n",
    "meuArquivo.write(f\"Reacoes de apoio [N]\\n{(reacoes)}\\n\")\n",
    "meuArquivo.write(f\"\\nDeslocamentos [m]\\n{(x_expandido)}\\n\")\n",
    "meuArquivo.write(f\"\\nDeformacoes []\\n{(deformacao)}\\n\")\n",
    "meuArquivo.write(f\"\\nForcas internas [N]\\n{(forca)}\\n\")\n",
    "meuArquivo.write(f\"\\nTensoes internas [Pa]\\n{(tensao)}\\n\")\n",
    "meuArquivo.close()"
   ]
  },
  {
   "cell_type": "code",
   "execution_count": 131,
   "metadata": {},
   "outputs": [
    {
     "data": {
      "image/png": "[encoded data removed]",
      "text/plain": [
       "<Figure size 640x480 with 1 Axes>"
      ]
     },
     "metadata": {},
     "output_type": "display_data"
    },
    {
     "data": {
      "image/png": "[encoded data removed]",
      "text/plain": [
       "<Figure size 640x480 with 1 Axes>"
      ]
     },
     "metadata": {},
     "output_type": "display_data"
    }
   ],
   "source": [
    "# Plotando o gráfico do sistema antes e depois da aplicação das forças externas\n",
    "\n",
    "testex = N[0] + x_expandido[::2]\n",
    "testey = N[1] + x_expandido[1::2]\n",
    "\n",
    "def plota(N,Inc):\n",
    "    # Numero de membros\n",
    "    nm = len(Inc[:,0])\n",
    "    \n",
    "    import matplotlib as mpl\n",
    "    import matplotlib.pyplot as plt\n",
    "\n",
    "#    plt.show()\n",
    "    fig = plt.figure()\n",
    "    # Passa por todos os membros\n",
    "    for i in range(nm):\n",
    "        \n",
    "        # encontra no inicial [n1] e final [n2] \n",
    "        n1 = int(Inc[i,0])\n",
    "        n2 = int(Inc[i,1])        \n",
    "\n",
    "        plt.plot([N[0,n1-1],N[0,n2-1]],[N[1,n1-1],N[1,n2-1]],color='r',linewidth=3)\n",
    "\n",
    "\n",
    "    plt.xlabel('x [m]')\n",
    "    plt.ylabel('y [m]')\n",
    "    plt.grid(True)\n",
    "    plt.axis('equal')\n",
    "\n",
    "deforma = [testex, testey]\n",
    "deforma = np.array(deforma)\n",
    "\n",
    "plota(N, Inc)\n",
    "\n",
    "plota(deforma, Inc)\n",
    "\n",
    "plt.show()"
   ]
  }
 ],
 "metadata": {
  "kernelspec": {
   "display_name": "Python 3.10.7 64-bit",
   "language": "python",
   "name": "python3"
  },
  "language_info": {
   "codemirror_mode": {
    "name": "ipython",
    "version": 3
   },
   "file_extension": ".py",
   "mimetype": "text/x-python",
   "name": "python",
   "nbconvert_exporter": "python",
   "pygments_lexer": "ipython3",
   "version": "3.10.7"
  },
  "orig_nbformat": 4,
  "vscode": {
   "interpreter": {
    "hash": "c3503f95e0e8f4afdf6702396a7a2a29cae9f67572acfe092405dcaa2579b817"
   }
  }
 },
 "nbformat": 4,
 "nbformat_minor": 2
}
